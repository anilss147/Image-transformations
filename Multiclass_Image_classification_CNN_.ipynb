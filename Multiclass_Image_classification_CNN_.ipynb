{
  "nbformat": 4,
  "nbformat_minor": 0,
  "metadata": {
    "accelerator": "GPU",
    "colab": {
      "name": "Multiclass Image classification CNN .ipynb",
      "provenance": [],
      "collapsed_sections": [],
      "include_colab_link": true
    },
    "kernelspec": {
      "display_name": "Python 3",
      "name": "python3"
    }
  },
  "cells": [
    {
      "cell_type": "markdown",
      "metadata": {
        "id": "view-in-github",
        "colab_type": "text"
      },
      "source": [
        "<a href=\"https://colab.research.google.com/github/anilss147/Image-transformations/blob/main/Multiclass_Image_classification_CNN_.ipynb\" target=\"_parent\"><img src=\"https://colab.research.google.com/assets/colab-badge.svg\" alt=\"Open In Colab\"/></a>"
      ]
    },
    {
      "cell_type": "code",
      "metadata": {
        "colab": {
          "base_uri": "https://localhost:8080/"
        },
        "id": "eR7f-JFjTe7i",
        "outputId": "45a1bbb7-f05b-4e49-883d-b9fdb1ab6d57"
      },
      "source": [
        "import tensorflow as tf\n",
        "print(tf.__version__)"
      ],
      "execution_count": null,
      "outputs": [
        {
          "output_type": "stream",
          "text": [
            "2.1.0\n"
          ],
          "name": "stdout"
        }
      ]
    },
    {
      "cell_type": "code",
      "metadata": {
        "colab": {
          "base_uri": "https://localhost:8080/"
        },
        "id": "hijvstgxADfq",
        "outputId": "c0bf7a64-1ddd-470e-a66d-548d678ec733"
      },
      "source": [
        "import os\n",
        "import zipfile\n",
        "from google.colab import drive\n",
        "drive.mount('/content/drive')"
      ],
      "execution_count": null,
      "outputs": [
        {
          "output_type": "stream",
          "text": [
            "Mounted at /content/drive\n"
          ],
          "name": "stdout"
        }
      ]
    },
    {
      "cell_type": "code",
      "metadata": {
        "id": "L19tWOA9os5i"
      },
      "source": [
        "import cv2\n",
        "import os\n",
        "import glob\n",
        "import pandas as pd\n"
      ],
      "execution_count": null,
      "outputs": []
    },
    {
      "cell_type": "code",
      "metadata": {
        "id": "n7ZEPlQ-AGq2"
      },
      "source": [
        "#base_dir = '/content/drive/MyDrive/Renamed_image'\n",
        "#train_dir = os.path.join(base_dir, 'train')\n",
        "#validation_dir =os.path.join(base_dir, 'validation')\n",
        "\n",
        "# Directory with our training cat pictures\n",
        "#train_arielblue_dir = os.path.join(train_dir, 'areal_red')\n",
        "\n",
        "# Directory with our validation cat pictures\n",
        "#validation_arielblue_dir = os.path.join(validation_dir, 'Areail_red_v')\n",
        "\n",
        "base_dir2 = '/content/drive/MyDrive/SACK_THURSDAY2'\n",
        "\n",
        "train_dir2 = os.path.join(base_dir2, 'train')\n",
        "\n",
        "validation_dir2 =os.path.join(base_dir2, 'validation')\n",
        "\n",
        "train_arielblue_dir = os.path.join(train_dir2, 'ARIELRED')\n",
        "\n",
        "train_ATIDEPLUS_dir = os.path.join(train_dir2, 'ATIDEPLUS')\n",
        "\n",
        "train_BARIELBLUE_dir = os.path.join(train_dir2, 'BARIELBLUE')\n",
        "\n",
        "train_CONVEYOR_dir = os.path.join(train_dir2, 'CONVEYOR')\n",
        "\n",
        "train_TIDEYELLOW_dir = os.path.join(train_dir2, 'TIDEYELLOW')\n",
        "\n",
        "train_UNKNOWN_dir = os.path.join(train_dir2, 'UNKNOWN')\n",
        "\n",
        "train_ARIELBLUE_2000_dir = os.path.join(train_dir2, 'ARIELBLUE_2000')\n",
        "\n",
        "train_TIDEPLUS_2000_dir = os.path.join(train_dir2, 'TIDEPLUS_2000')\n",
        "\n",
        "train_TIDEYELLOW_2000_test_dilr = os.path.join(train_dir2, 'TIDEYELLOW_2000_test')\n",
        "\n",
        "train_ARIELRED_2000_test_dilr = os.path.join(train_dir2, 'ARIELRED_2000')\n",
        "\n",
        "validation_arielblue_dir = os.path.join(validation_dir2, 'ARIELRED')\n",
        "\n",
        "validation_ATIDEPLUS_dir = os.path.join(validation_dir2, 'ATIDEPLUS')\n",
        "\n",
        "validation_BARIELBLUE_dir = os.path.join(validation_dir2, 'BARIELBLUE')\n",
        "\n",
        "validation_CONVEYOR_dir = os.path.join(validation_dir2, 'CONVEYOR')\n",
        "\n",
        "validation_TIDEYELLOW_dir = os.path.join(validation_dir2, 'TIDEYELLOW')\n",
        "\n",
        "validation_UNKNOWN_dir = os.path.join(validation_dir2, 'UNKNOWN')\n"
      ],
      "execution_count": null,
      "outputs": []
    },
    {
      "cell_type": "code",
      "metadata": {
        "id": "rn1diryWneib"
      },
      "source": [
        "train_all = [train_arielblue_dir,train_ATIDEPLUS_dir,train_BARIELBLUE_dir,train_CONVEYOR_dir,train_ARIELRED_2000_test_dilr,train_TIDEYELLOW_dir,train_TIDEYELLOW_2000_test_dilr,train_UNKNOWN_dir,train_ARIELBLUE_2000_dir,train_TIDEPLUS_2000_dir]\n",
        "validation_all = [validation_arielblue_dir,validation_ATIDEPLUS_dir,validation_BARIELBLUE_dir,validation_CONVEYOR_dir,validation_TIDEYELLOW_dir,validation_UNKNOWN_dir]\n",
        "imag_name_list = []\n",
        "for input_dir in train_all + validation_all:\n",
        "  im_names = sorted(glob.glob(os.path.join(input_dir, '*.jpeg')))\n",
        "  for i,im_name in enumerate(im_names):\n",
        "    imag_name_list.append(im_name)\n",
        "data = pd.DataFrame({\"image_path\":imag_name_list})\n",
        "lbl = ['ARIELBLUE','TIDEYELLOW','ARIELRED','UNKNOWN','TIDEPLUS','CONVEYOR']#,'TIDEPLUS'\n",
        "def label_fn(path):\n",
        " for i,l in enumerate(lbl):\n",
        "    if l in path:\n",
        "      return i\n",
        "data[\"label\"] = data.image_path.apply(lambda x: label_fn(x))\n",
        "data.to_csv(\"train.csv\",index=False)"
      ],
      "execution_count": null,
      "outputs": []
    },
    {
      "cell_type": "code",
      "metadata": {
        "id": "3iQDIo4s2uUn",
        "colab": {
          "base_uri": "https://localhost:8080/"
        },
        "outputId": "c166a223-4ea1-4fa8-9556-d8dcf6bbacda"
      },
      "source": [
        "data.label.value_counts()"
      ],
      "execution_count": null,
      "outputs": [
        {
          "output_type": "execute_result",
          "data": {
            "text/plain": [
              "0    7865\n",
              "4    7466\n",
              "1    4858\n",
              "3    4598\n",
              "2    2858\n",
              "5     100\n",
              "Name: label, dtype: int64"
            ]
          },
          "metadata": {
            "tags": []
          },
          "execution_count": 7
        }
      ]
    },
    {
      "cell_type": "code",
      "metadata": {
        "id": "HZ7HbFxKAWNc"
      },
      "source": [
        "from tensorflow.keras import layers\n",
        "from tensorflow.keras import Model\n",
        "import numpy as np\n"
      ],
      "execution_count": null,
      "outputs": []
    },
    {
      "cell_type": "code",
      "metadata": {
        "id": "HBuBxU7aGrT4",
        "colab": {
          "base_uri": "https://localhost:8080/"
        },
        "outputId": "2d7da8a5-5efb-430a-aa03-c6a102ccdc89"
      },
      "source": [
        "\n",
        "from tensorflow.keras.preprocessing.image import ImageDataGenerator\n",
        "from sklearn.model_selection import train_test_split\n",
        "# All images will be rescaled by 1./255\n",
        "# All images will be rescaled by 1./255\n",
        "train_datagen = ImageDataGenerator(rescale=1./255,\n",
        "                                   rotation_range = 40, \n",
        "                                   shear_range = 0.2, \n",
        "                                   zoom_range = 0.2, \n",
        "                                   horizontal_flip = True, \n",
        "                                   brightness_range = (0.5, 1.5))\n",
        "val_datagen = ImageDataGenerator(rescale=1./255,\n",
        "                                   rotation_range = 40, \n",
        "                                   shear_range = 0.2, \n",
        "                                   zoom_range = 0.2, \n",
        "                                   horizontal_flip = True, \n",
        "                                   brightness_range = (0.5, 1.5))\n",
        "\n",
        "\n",
        "train = pd.read_csv(\"/content/train.csv\")\n",
        "xtrain,xtest,ytrain,ytest = train_test_split(train.image_path,train.label,test_size=0.1,shuffle = True )\n",
        "train_df = pd.DataFrame({\"img\":xtrain.values,\"label\":ytrain.values.astype(np.str)})\n",
        "val_df = pd.DataFrame({\"img\":xtest.values,\"label\":ytest.values.astype(np.str)})\n",
        "# Flow training images in batches of 20 using train_datagen generator\n",
        "train_generator = train_datagen.flow_from_dataframe(\n",
        "    dataframe=train_df,\n",
        "        directory=\"\",\n",
        "        x_col=\"img\",\n",
        "        y_col = \"label\",  # This is the source directory for training images\n",
        "        target_size=(150, 150),  # All images will be resized to 150x150\n",
        "        batch_size=20,\n",
        "        # Since we use binary_crossentropy loss, we need binary labels\n",
        "        class_mode='categorical')\n",
        " \n",
        "# Flow validation images in batches of 20 using val_datagen generator\n",
        "validation_generator = val_datagen.flow_from_dataframe(\n",
        "        dataframe=val_df,\n",
        "        x_col = \"img\",\n",
        "        y_col = \"label\",\n",
        "        directory=\"\",\n",
        "        target_size=(150, 150),\n",
        "        batch_size=2,\n",
        "        class_mode='categorical')"
      ],
      "execution_count": null,
      "outputs": [
        {
          "output_type": "stream",
          "text": [
            "Found 24970 validated image filenames belonging to 6 classes.\n",
            "Found 2775 validated image filenames belonging to 6 classes.\n"
          ],
          "name": "stdout"
        }
      ]
    },
    {
      "cell_type": "code",
      "metadata": {
        "id": "8IjFH24t2MPq",
        "colab": {
          "base_uri": "https://localhost:8080/"
        },
        "outputId": "f16baed2-416c-43c6-9762-184d5be7f124"
      },
      "source": [
        "train_generator.class_indices"
      ],
      "execution_count": null,
      "outputs": [
        {
          "output_type": "execute_result",
          "data": {
            "text/plain": [
              "{'0': 0, '1': 1, '2': 2, '3': 3, '4': 4, '5': 5}"
            ]
          },
          "metadata": {
            "tags": []
          },
          "execution_count": 10
        }
      ]
    },
    {
      "cell_type": "code",
      "metadata": {
        "id": "tBskKxvFcaKC",
        "colab": {
          "base_uri": "https://localhost:8080/",
          "height": 35
        },
        "outputId": "81123958-955a-4e99-8066-5b50510619e4"
      },
      "source": [
        "import tensorflow as tf\n",
        "tf.test.gpu_device_name()"
      ],
      "execution_count": null,
      "outputs": [
        {
          "output_type": "execute_result",
          "data": {
            "application/vnd.google.colaboratory.intrinsic+json": {
              "type": "string"
            },
            "text/plain": [
              "'/device:GPU:0'"
            ]
          },
          "metadata": {
            "tags": []
          },
          "execution_count": 11
        }
      ]
    },
    {
      "cell_type": "code",
      "metadata": {
        "id": "idN9VXpbQbqk",
        "colab": {
          "base_uri": "https://localhost:8080/"
        },
        "outputId": "4e777723-ed6a-484a-d000-90639d941940"
      },
      "source": [
        "import tensorflow as tf\n",
        "import numpy as np\n",
        "#import keras                                                            \n",
        "with tf.device(\"/device:GPU:0\"):\n",
        "  cnn = tf.keras.models.Sequential()\n",
        "  cnn.add(tf.keras.layers.Conv2D(filters=48, kernel_size=3, activation='relu', input_shape=[150, 150, 3]))\n",
        "  cnn.add(tf.keras.layers.MaxPool2D(pool_size=2, strides=2))\n",
        "  cnn.add(tf.keras.layers.Conv2D(filters=48, kernel_size=3, activation='relu'))\n",
        "  cnn.add(tf.keras.layers.MaxPool2D(pool_size=2, strides=2))\n",
        "  cnn.add(tf.keras.layers.Conv2D(filters=32, kernel_size=3, activation='relu'))\n",
        "  cnn.add(tf.keras.layers.MaxPool2D(pool_size=2, strides=2))\n",
        "  cnn.add(tf.keras.layers.Flatten())\n",
        "  cnn.add(tf.keras.layers.Dense(128, activation='relu'))\n",
        "  cnn.add(tf.keras.layers.Dense(64, activation='relu'))\n",
        "  cnn.add(tf.keras.layers.Dense(6, activation='softmax'))\n",
        "  cnn.compile(optimizer=\"adam\", loss=\"categorical_crossentropy\", metrics=[\"accuracy\"])\n",
        "  cnn.fit(x=train_generator, validation_data=validation_generator, epochs=20)"
      ],
      "execution_count": null,
      "outputs": [
        {
          "output_type": "stream",
          "text": [
            "WARNING:tensorflow:sample_weight modes were coerced from\n",
            "  ...\n",
            "    to  \n",
            "  ['...']\n",
            "WARNING:tensorflow:sample_weight modes were coerced from\n",
            "  ...\n",
            "    to  \n",
            "  ['...']\n",
            "Train for 1249 steps, validate for 1388 steps\n",
            "Epoch 1/20\n",
            "1249/1249 [==============================] - 7193s 6s/step - loss: 0.2285 - accuracy: 0.9155 - val_loss: 0.1375 - val_accuracy: 0.9575\n",
            "Epoch 2/20\n",
            "1249/1249 [==============================] - 413s 330ms/step - loss: 0.0486 - accuracy: 0.9846 - val_loss: 0.0676 - val_accuracy: 0.9827\n",
            "Epoch 3/20\n",
            "1249/1249 [==============================] - 412s 330ms/step - loss: 0.0300 - accuracy: 0.9906 - val_loss: 0.0274 - val_accuracy: 0.9932\n",
            "Epoch 4/20\n",
            "1249/1249 [==============================] - 411s 329ms/step - loss: 0.0266 - accuracy: 0.9928 - val_loss: 0.0122 - val_accuracy: 0.9964\n",
            "Epoch 5/20\n",
            "1249/1249 [==============================] - 410s 328ms/step - loss: 0.0223 - accuracy: 0.9934 - val_loss: 0.0075 - val_accuracy: 0.9975\n",
            "Epoch 6/20\n",
            "1249/1249 [==============================] - 406s 325ms/step - loss: 0.0124 - accuracy: 0.9964 - val_loss: 0.0184 - val_accuracy: 0.9946\n",
            "Epoch 7/20\n",
            "1249/1249 [==============================] - 415s 332ms/step - loss: 0.0250 - accuracy: 0.9927 - val_loss: 0.0091 - val_accuracy: 0.9968\n",
            "Epoch 8/20\n",
            "1249/1249 [==============================] - 432s 346ms/step - loss: 0.0164 - accuracy: 0.9952 - val_loss: 0.0050 - val_accuracy: 0.9982\n",
            "Epoch 9/20\n",
            "1249/1249 [==============================] - 434s 347ms/step - loss: 0.0234 - accuracy: 0.9934 - val_loss: 0.0081 - val_accuracy: 0.9968\n",
            "Epoch 10/20\n",
            "1249/1249 [==============================] - 438s 351ms/step - loss: 0.0115 - accuracy: 0.9968 - val_loss: 0.0049 - val_accuracy: 0.9986\n",
            "Epoch 11/20\n",
            "1249/1249 [==============================] - 440s 352ms/step - loss: 0.0083 - accuracy: 0.9979 - val_loss: 0.0110 - val_accuracy: 0.9971\n",
            "Epoch 12/20\n",
            "1249/1249 [==============================] - 444s 356ms/step - loss: 0.0150 - accuracy: 0.9960 - val_loss: 0.0080 - val_accuracy: 0.9978\n",
            "Epoch 13/20\n",
            "1249/1249 [==============================] - 448s 359ms/step - loss: 0.0082 - accuracy: 0.9979 - val_loss: 0.0134 - val_accuracy: 0.9971\n",
            "Epoch 14/20\n",
            "1249/1249 [==============================] - 427s 342ms/step - loss: 0.0087 - accuracy: 0.9974 - val_loss: 4.6719e-04 - val_accuracy: 1.0000\n",
            "Epoch 15/20\n",
            "1249/1249 [==============================] - 419s 336ms/step - loss: 0.0037 - accuracy: 0.9991 - val_loss: 0.0019 - val_accuracy: 0.9993\n",
            "Epoch 16/20\n",
            "1249/1249 [==============================] - 415s 332ms/step - loss: 0.0163 - accuracy: 0.9959 - val_loss: 0.0037 - val_accuracy: 0.9989\n",
            "Epoch 17/20\n",
            "1249/1249 [==============================] - 410s 328ms/step - loss: 0.0068 - accuracy: 0.9984 - val_loss: 0.0081 - val_accuracy: 0.9978\n",
            "Epoch 18/20\n",
            "1249/1249 [==============================] - 409s 327ms/step - loss: 0.0104 - accuracy: 0.9977 - val_loss: 0.0021 - val_accuracy: 0.9996\n",
            "Epoch 19/20\n",
            "1249/1249 [==============================] - 410s 328ms/step - loss: 0.0107 - accuracy: 0.9978 - val_loss: 0.0061 - val_accuracy: 0.9993\n",
            "Epoch 20/20\n",
            "1249/1249 [==============================] - 409s 328ms/step - loss: 0.0050 - accuracy: 0.9987 - val_loss: 4.1074e-04 - val_accuracy: 1.0000\n"
          ],
          "name": "stdout"
        }
      ]
    },
    {
      "cell_type": "code",
      "metadata": {
        "id": "Fnil4Y5oYWmQ",
        "colab": {
          "base_uri": "https://localhost:8080/"
        },
        "outputId": "7cdbfe58-b371-4087-a903-2c7f3c04ced1"
      },
      "source": [
        "cnn.history"
      ],
      "execution_count": null,
      "outputs": [
        {
          "output_type": "execute_result",
          "data": {
            "text/plain": [
              "<tensorflow.python.keras.callbacks.History at 0x7f10802039b0>"
            ]
          },
          "metadata": {
            "tags": []
          },
          "execution_count": 13
        }
      ]
    },
    {
      "cell_type": "code",
      "metadata": {
        "id": "1i9doiIVYYhv",
        "colab": {
          "base_uri": "https://localhost:8080/"
        },
        "outputId": "4670a4f4-392e-43b8-bfce-a21a00042aa7"
      },
      "source": [
        "cnn.get_config()\n",
        "#cnn.history"
      ],
      "execution_count": null,
      "outputs": [
        {
          "output_type": "execute_result",
          "data": {
            "text/plain": [
              "{'layers': [{'class_name': 'Conv2D',\n",
              "   'config': {'activation': 'relu',\n",
              "    'activity_regularizer': None,\n",
              "    'batch_input_shape': (None, 150, 150, 3),\n",
              "    'bias_constraint': None,\n",
              "    'bias_initializer': {'class_name': 'Zeros', 'config': {}},\n",
              "    'bias_regularizer': None,\n",
              "    'data_format': 'channels_last',\n",
              "    'dilation_rate': (1, 1),\n",
              "    'dtype': 'float32',\n",
              "    'filters': 48,\n",
              "    'kernel_constraint': None,\n",
              "    'kernel_initializer': {'class_name': 'GlorotUniform',\n",
              "     'config': {'seed': None}},\n",
              "    'kernel_regularizer': None,\n",
              "    'kernel_size': (3, 3),\n",
              "    'name': 'conv2d',\n",
              "    'padding': 'valid',\n",
              "    'strides': (1, 1),\n",
              "    'trainable': True,\n",
              "    'use_bias': True}},\n",
              "  {'class_name': 'MaxPooling2D',\n",
              "   'config': {'data_format': 'channels_last',\n",
              "    'dtype': 'float32',\n",
              "    'name': 'max_pooling2d',\n",
              "    'padding': 'valid',\n",
              "    'pool_size': (2, 2),\n",
              "    'strides': (2, 2),\n",
              "    'trainable': True}},\n",
              "  {'class_name': 'Conv2D',\n",
              "   'config': {'activation': 'relu',\n",
              "    'activity_regularizer': None,\n",
              "    'bias_constraint': None,\n",
              "    'bias_initializer': {'class_name': 'Zeros', 'config': {}},\n",
              "    'bias_regularizer': None,\n",
              "    'data_format': 'channels_last',\n",
              "    'dilation_rate': (1, 1),\n",
              "    'dtype': 'float32',\n",
              "    'filters': 48,\n",
              "    'kernel_constraint': None,\n",
              "    'kernel_initializer': {'class_name': 'GlorotUniform',\n",
              "     'config': {'seed': None}},\n",
              "    'kernel_regularizer': None,\n",
              "    'kernel_size': (3, 3),\n",
              "    'name': 'conv2d_1',\n",
              "    'padding': 'valid',\n",
              "    'strides': (1, 1),\n",
              "    'trainable': True,\n",
              "    'use_bias': True}},\n",
              "  {'class_name': 'MaxPooling2D',\n",
              "   'config': {'data_format': 'channels_last',\n",
              "    'dtype': 'float32',\n",
              "    'name': 'max_pooling2d_1',\n",
              "    'padding': 'valid',\n",
              "    'pool_size': (2, 2),\n",
              "    'strides': (2, 2),\n",
              "    'trainable': True}},\n",
              "  {'class_name': 'Conv2D',\n",
              "   'config': {'activation': 'relu',\n",
              "    'activity_regularizer': None,\n",
              "    'bias_constraint': None,\n",
              "    'bias_initializer': {'class_name': 'Zeros', 'config': {}},\n",
              "    'bias_regularizer': None,\n",
              "    'data_format': 'channels_last',\n",
              "    'dilation_rate': (1, 1),\n",
              "    'dtype': 'float32',\n",
              "    'filters': 32,\n",
              "    'kernel_constraint': None,\n",
              "    'kernel_initializer': {'class_name': 'GlorotUniform',\n",
              "     'config': {'seed': None}},\n",
              "    'kernel_regularizer': None,\n",
              "    'kernel_size': (3, 3),\n",
              "    'name': 'conv2d_2',\n",
              "    'padding': 'valid',\n",
              "    'strides': (1, 1),\n",
              "    'trainable': True,\n",
              "    'use_bias': True}},\n",
              "  {'class_name': 'MaxPooling2D',\n",
              "   'config': {'data_format': 'channels_last',\n",
              "    'dtype': 'float32',\n",
              "    'name': 'max_pooling2d_2',\n",
              "    'padding': 'valid',\n",
              "    'pool_size': (2, 2),\n",
              "    'strides': (2, 2),\n",
              "    'trainable': True}},\n",
              "  {'class_name': 'Flatten',\n",
              "   'config': {'data_format': 'channels_last',\n",
              "    'dtype': 'float32',\n",
              "    'name': 'flatten',\n",
              "    'trainable': True}},\n",
              "  {'class_name': 'Dense',\n",
              "   'config': {'activation': 'relu',\n",
              "    'activity_regularizer': None,\n",
              "    'bias_constraint': None,\n",
              "    'bias_initializer': {'class_name': 'Zeros', 'config': {}},\n",
              "    'bias_regularizer': None,\n",
              "    'dtype': 'float32',\n",
              "    'kernel_constraint': None,\n",
              "    'kernel_initializer': {'class_name': 'GlorotUniform',\n",
              "     'config': {'seed': None}},\n",
              "    'kernel_regularizer': None,\n",
              "    'name': 'dense',\n",
              "    'trainable': True,\n",
              "    'units': 128,\n",
              "    'use_bias': True}},\n",
              "  {'class_name': 'Dense',\n",
              "   'config': {'activation': 'relu',\n",
              "    'activity_regularizer': None,\n",
              "    'bias_constraint': None,\n",
              "    'bias_initializer': {'class_name': 'Zeros', 'config': {}},\n",
              "    'bias_regularizer': None,\n",
              "    'dtype': 'float32',\n",
              "    'kernel_constraint': None,\n",
              "    'kernel_initializer': {'class_name': 'GlorotUniform',\n",
              "     'config': {'seed': None}},\n",
              "    'kernel_regularizer': None,\n",
              "    'name': 'dense_1',\n",
              "    'trainable': True,\n",
              "    'units': 64,\n",
              "    'use_bias': True}},\n",
              "  {'class_name': 'Dense',\n",
              "   'config': {'activation': 'softmax',\n",
              "    'activity_regularizer': None,\n",
              "    'bias_constraint': None,\n",
              "    'bias_initializer': {'class_name': 'Zeros', 'config': {}},\n",
              "    'bias_regularizer': None,\n",
              "    'dtype': 'float32',\n",
              "    'kernel_constraint': None,\n",
              "    'kernel_initializer': {'class_name': 'GlorotUniform',\n",
              "     'config': {'seed': None}},\n",
              "    'kernel_regularizer': None,\n",
              "    'name': 'dense_2',\n",
              "    'trainable': True,\n",
              "    'units': 6,\n",
              "    'use_bias': True}}],\n",
              " 'name': 'sequential'}"
            ]
          },
          "metadata": {
            "tags": []
          },
          "execution_count": 28
        }
      ]
    },
    {
      "cell_type": "code",
      "metadata": {
        "id": "_YMPXlbuYap2",
        "colab": {
          "base_uri": "https://localhost:8080/",
          "height": 167
        },
        "outputId": "d24208ca-0030-4a3c-964e-6c7c6d6b784a"
      },
      "source": [
        "np.mean(cnn.history['acc'])"
      ],
      "execution_count": null,
      "outputs": [
        {
          "output_type": "error",
          "ename": "TypeError",
          "evalue": "ignored",
          "traceback": [
            "\u001b[0;31m---------------------------------------------------------------------------\u001b[0m",
            "\u001b[0;31mTypeError\u001b[0m                                 Traceback (most recent call last)",
            "\u001b[0;32m<ipython-input-25-47a87dd3b269>\u001b[0m in \u001b[0;36m<module>\u001b[0;34m()\u001b[0m\n\u001b[0;32m----> 1\u001b[0;31m \u001b[0mnp\u001b[0m\u001b[0;34m.\u001b[0m\u001b[0mmean\u001b[0m\u001b[0;34m(\u001b[0m\u001b[0mcnn\u001b[0m\u001b[0;34m.\u001b[0m\u001b[0mhistory\u001b[0m\u001b[0;34m[\u001b[0m\u001b[0;34m'acc'\u001b[0m\u001b[0;34m]\u001b[0m\u001b[0;34m)\u001b[0m\u001b[0;34m\u001b[0m\u001b[0;34m\u001b[0m\u001b[0m\n\u001b[0m",
            "\u001b[0;31mTypeError\u001b[0m: 'History' object is not subscriptable"
          ]
        }
      ]
    },
    {
      "cell_type": "code",
      "metadata": {
        "id": "0eMgwauPzsVz",
        "colab": {
          "base_uri": "https://localhost:8080/"
        },
        "outputId": "8a19e618-7ee9-472f-c945-f9ea2063ccdf"
      },
      "source": [
        "cnn.summary()"
      ],
      "execution_count": null,
      "outputs": [
        {
          "output_type": "stream",
          "text": [
            "Model: \"sequential\"\n",
            "_________________________________________________________________\n",
            "Layer (type)                 Output Shape              Param #   \n",
            "=================================================================\n",
            "conv2d (Conv2D)              (None, 148, 148, 48)      1344      \n",
            "_________________________________________________________________\n",
            "max_pooling2d (MaxPooling2D) (None, 74, 74, 48)        0         \n",
            "_________________________________________________________________\n",
            "conv2d_1 (Conv2D)            (None, 72, 72, 48)        20784     \n",
            "_________________________________________________________________\n",
            "max_pooling2d_1 (MaxPooling2 (None, 36, 36, 48)        0         \n",
            "_________________________________________________________________\n",
            "conv2d_2 (Conv2D)            (None, 34, 34, 32)        13856     \n",
            "_________________________________________________________________\n",
            "max_pooling2d_2 (MaxPooling2 (None, 17, 17, 32)        0         \n",
            "_________________________________________________________________\n",
            "flatten (Flatten)            (None, 9248)              0         \n",
            "_________________________________________________________________\n",
            "dense (Dense)                (None, 128)               1183872   \n",
            "_________________________________________________________________\n",
            "dense_1 (Dense)              (None, 64)                8256      \n",
            "_________________________________________________________________\n",
            "dense_2 (Dense)              (None, 6)                 390       \n",
            "=================================================================\n",
            "Total params: 1,228,502\n",
            "Trainable params: 1,228,502\n",
            "Non-trainable params: 0\n",
            "_________________________________________________________________\n"
          ],
          "name": "stdout"
        }
      ]
    },
    {
      "cell_type": "code",
      "metadata": {
        "id": "mX9wc5T_u4ID",
        "colab": {
          "base_uri": "https://localhost:8080/"
        },
        "outputId": "baef5a22-9f35-4900-a720-3714d67550a7"
      },
      "source": [
        "t = \"513\"\n",
        "export_path_keras1 = '/content/drive/MyDrive/NEWNETWORK/model/3 12'#+\"/{}.h5\".format(int(t))\n",
        "export_path_keras = '/content/drive/MyDrive/NEWNETWORK/model/3 12'+\"/{}.h5\".format(int(t))\n",
        "print(export_path_keras)\n",
        "cnn.save(export_path_keras1)\n",
        "cnn.save(export_path_keras)\n",
        "\n",
        "class_map = train_generator.class_indices\n",
        "  "
      ],
      "execution_count": null,
      "outputs": [
        {
          "output_type": "stream",
          "text": [
            "/content/drive/MyDrive/NEWNETWORK/model/3 12/513.h5\n",
            "WARNING:tensorflow:From /usr/local/lib/python3.6/dist-packages/tensorflow_core/python/ops/resource_variable_ops.py:1786: calling BaseResourceVariable.__init__ (from tensorflow.python.ops.resource_variable_ops) with constraint is deprecated and will be removed in a future version.\n",
            "Instructions for updating:\n",
            "If using Keras pass *_constraint arguments to layers.\n",
            "INFO:tensorflow:Assets written to: /content/drive/MyDrive/NEWNETWORK/model/3 12/assets\n"
          ],
          "name": "stdout"
        }
      ]
    },
    {
      "cell_type": "code",
      "metadata": {
        "id": "x7PKyAhHP4b9",
        "colab": {
          "base_uri": "https://localhost:8080/"
        },
        "outputId": "50b77454-8d82-4627-9165-83b5565c1716"
      },
      "source": [
        "import tensorflow as tf\n",
        "print(tf.__version__)"
      ],
      "execution_count": null,
      "outputs": [
        {
          "output_type": "stream",
          "text": [
            "2.1.0\n"
          ],
          "name": "stdout"
        }
      ]
    },
    {
      "cell_type": "code",
      "metadata": {
        "id": "8B9FzH8RvaKv",
        "colab": {
          "base_uri": "https://localhost:8080/"
        },
        "outputId": "fbe8d60f-aafe-4951-b00b-78890753d0db"
      },
      "source": [
        "import tensorflow_hub as hub\n",
        "import tensorflow as tf\n",
        "\n",
        "path = '/content/drive/MyDrive/NEWNETWORK/model/3 12/513.h5'\n",
        "reloaded = tf.keras.models.load_model(\n",
        "  path, \n",
        "  # `custom_objects` tells keras how to load a `hub.KerasLayer`\n",
        "  custom_objects={'KerasLayer': hub.KerasLayer})\n",
        "\n",
        "reloaded.summary()\n"
      ],
      "execution_count": null,
      "outputs": [
        {
          "output_type": "stream",
          "text": [
            "Model: \"sequential\"\n",
            "_________________________________________________________________\n",
            "Layer (type)                 Output Shape              Param #   \n",
            "=================================================================\n",
            "conv2d (Conv2D)              (None, 148, 148, 48)      1344      \n",
            "_________________________________________________________________\n",
            "max_pooling2d (MaxPooling2D) (None, 74, 74, 48)        0         \n",
            "_________________________________________________________________\n",
            "conv2d_1 (Conv2D)            (None, 72, 72, 48)        20784     \n",
            "_________________________________________________________________\n",
            "max_pooling2d_1 (MaxPooling2 (None, 36, 36, 48)        0         \n",
            "_________________________________________________________________\n",
            "conv2d_2 (Conv2D)            (None, 34, 34, 32)        13856     \n",
            "_________________________________________________________________\n",
            "max_pooling2d_2 (MaxPooling2 (None, 17, 17, 32)        0         \n",
            "_________________________________________________________________\n",
            "flatten (Flatten)            (None, 9248)              0         \n",
            "_________________________________________________________________\n",
            "dense (Dense)                (None, 128)               1183872   \n",
            "_________________________________________________________________\n",
            "dense_1 (Dense)              (None, 64)                8256      \n",
            "_________________________________________________________________\n",
            "dense_2 (Dense)              (None, 6)                 390       \n",
            "=================================================================\n",
            "Total params: 1,228,502\n",
            "Trainable params: 1,228,502\n",
            "Non-trainable params: 0\n",
            "_________________________________________________________________\n"
          ],
          "name": "stdout"
        }
      ]
    },
    {
      "cell_type": "code",
      "metadata": {
        "id": "jK7SAJqqw_hI",
        "colab": {
          "base_uri": "https://localhost:8080/"
        },
        "outputId": "f3dd5bf9-6688-45e3-c52e-e501bd54bad3"
      },
      "source": [
        "import numpy as np\n",
        "from keras_preprocessing import image\n",
        "\n",
        "test_image = image.load_img(\"/content/drive/MyDrive/SACK_THURSDAY2/train/CONVEYOR/1(100).jpeg\",target_size = (150,150))\n",
        "\n",
        "test_image1 = image.img_to_array(test_image)\n",
        "test_image2 = np.expand_dims(test_image1, axis =0)\n",
        "result = reloaded.predict(test_image2)\n",
        "\n",
        "print((result))\n",
        "print((result[0][0]))\n",
        "print((result[0][1]))\n",
        "print((result[0][2]))\n",
        "print((result[0][3]))\n",
        "print((result[0][4]))\n",
        "print((result[0][5]))\n",
        "#lbl = ['ARIELBLUE','TIDEYELLOW','ARIELRED','UNKNOWN','TIDEPLUS','CONVEYOR']"
      ],
      "execution_count": null,
      "outputs": [
        {
          "output_type": "stream",
          "text": [
            "[[1. 0. 0. 0. 0. 0.]]\n",
            "1.0\n",
            "0.0\n",
            "0.0\n",
            "0.0\n",
            "0.0\n",
            "0.0\n"
          ],
          "name": "stdout"
        }
      ]
    },
    {
      "cell_type": "code",
      "metadata": {
        "id": "cYdPWakhviIt"
      },
      "source": [
        ""
      ],
      "execution_count": null,
      "outputs": []
    },
    {
      "cell_type": "code",
      "metadata": {
        "id": "7iAaENvSq0HG"
      },
      "source": [
        ""
      ],
      "execution_count": null,
      "outputs": []
    }
  ]
}