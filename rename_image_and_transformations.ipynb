{
  "nbformat": 4,
  "nbformat_minor": 0,
  "metadata": {
    "colab": {
      "name": "rename_image and transformations.ipynb",
      "provenance": [],
      "collapsed_sections": [],
      "include_colab_link": true
    },
    "kernelspec": {
      "display_name": "Python 3",
      "name": "python3"
    }
  },
  "cells": [
    {
      "cell_type": "markdown",
      "metadata": {
        "id": "view-in-github",
        "colab_type": "text"
      },
      "source": [
        "<a href=\"https://colab.research.google.com/github/anilss147/Image-transformations/blob/main/rename_image_and_transformations.ipynb\" target=\"_parent\"><img src=\"https://colab.research.google.com/assets/colab-badge.svg\" alt=\"Open In Colab\"/></a>"
      ]
    },
    {
      "cell_type": "code",
      "metadata": {
        "colab": {
          "base_uri": "https://localhost:8080/"
        },
        "id": "ZU4onNNQPzKP",
        "outputId": "9453da36-9824-4fa5-ea33-bb2ce3ec96f8"
      },
      "source": [
        "import os\n",
        "import zipfile\n",
        "from google.colab import drive\n",
        "drive.mount('/content/drive')"
      ],
      "execution_count": null,
      "outputs": [
        {
          "output_type": "stream",
          "text": [
            "Mounted at /content/drive\n"
          ],
          "name": "stdout"
        }
      ]
    },
    {
      "cell_type": "code",
      "metadata": {
        "id": "1CKEh_zEPz_R"
      },
      "source": [
        "import cv2\n",
        "import numpy as np\n",
        "from skimage import io \n",
        "from skimage.transform import rotate, AffineTransform, warp\n",
        "import matplotlib.pyplot as plt\n",
        "import random\n",
        "from skimage import img_as_ubyte\n",
        "import os\n",
        "from skimage.util import random_noise"
      ],
      "execution_count": null,
      "outputs": []
    },
    {
      "cell_type": "code",
      "metadata": {
        "id": "cZYEMCOZQGNo"
      },
      "source": [
        "def anticlockwise_rotation(image):\n",
        "    angle= random.randint(0,180)\n",
        "    return rotate(image, angle)\n",
        "\n",
        "def clockwise_rotation(image):\n",
        "    angle= random.randint(0,180)\n",
        "    return rotate(image, -angle)\n",
        "\n",
        "def h_flip(image):\n",
        "    return  np.fliplr(image)\n",
        "\n",
        "def v_flip(image):\n",
        "    return np.flipud(image)\n",
        "\n",
        "def add_noise(image):\n",
        "    return random_noise(image)\n",
        "\n",
        "def blur_image(image):\n",
        "    return cv2.GaussianBlur(image, (9,9),0)\n",
        "\n",
        "#I would not recommend warp_shifting, because it distorts image, but can be used in many use case like \n",
        "#classifying blur and non-blur images\n",
        "def warp_shift(image): \n",
        "    transform = AffineTransform(translation=(0,40))  #chose x,y values according to your convinience\n",
        "    warp_image = warp(image, transform, mode=\"wrap\")\n",
        "    return warp_image"
      ],
      "execution_count": null,
      "outputs": []
    },
    {
      "cell_type": "code",
      "metadata": {
        "colab": {
          "background_save": true
        },
        "id": "jSd_j-Q3QHRf"
      },
      "source": [
        "transformations = {'rotate anticlockwise': anticlockwise_rotation,\n",
        "                      'rotate clockwise': clockwise_rotation,\n",
        "                      'horizontal flip': h_flip, \n",
        "                      'vertical flip': v_flip,\n",
        "                   'warp shift': warp_shift,\n",
        "                   'adding noise': add_noise,\n",
        "                   'blurring image':blur_image\n",
        "                 }                #use dictionary to store names of functions \n",
        "\n",
        "images_path=\"/content/drive/MyDrive\" #path to original images\n",
        "augmented_path=\"/content/drive/MyDrive\" # path to store aumented images\n",
        "images=[] # to store paths of images from folder\n",
        "\n",
        "for im in os.listdir(images_path):  # read image name from folder and append its path into \"images\" array     \n",
        "    images.append(os.path.join(images_path,im))\n",
        "\n",
        "images_to_generate=2500  #you can change this value according to your requirement\n",
        "i=1                        # variable to iterate till images_to_generate\n",
        "\n",
        "while i<=images_to_generate:\n",
        "    image=random.choice(images)\n",
        "    original_image = io.imread(image)\n",
        "    transformed_image=None\n",
        "#     print(i)\n",
        "    n = 0       #variable to iterate till number of transformation to apply\n",
        "    transformation_count = random.randint(1, len(transformations)) #choose random number of transformation to apply on the image\n",
        "    \n",
        "    while n <= transformation_count:\n",
        "        key = random.choice(list(transformations)) #randomly choosing method to call\n",
        "        transformed_image = transformations[key](original_image)\n",
        "        n = n + 1\n",
        "        \n",
        "    new_image_path= \"%s/augmented_image_%s.jpeg\" %(augmented_path, i)\n",
        "    transformed_image = img_as_ubyte(transformed_image)  #Convert an image to unsigned byte format, with values in [0, 255].\n",
        "    transformed_image=cv2.cvtColor(transformed_image, cv2.COLOR_BGR2RGB) #convert image to RGB before saving it\n",
        "    cv2.imwrite(new_image_path, transformed_image) # save transformed image to path\n",
        "    i =i+1\n",
        "#to generate more images, put above 3 statement inside while n<... loop"
      ],
      "execution_count": null,
      "outputs": []
    },
    {
      "cell_type": "code",
      "metadata": {
        "colab": {
          "base_uri": "https://localhost:8080/"
        },
        "id": "nLxDnk79Q5er",
        "outputId": "5b19b5eb-6cef-4233-a614-b50f2d64c260"
      },
      "source": [
        "import cv2\n",
        "import os\n",
        "import glob\n",
        "count = 0\n",
        "im_names = sorted(glob.glob(os.path.join(\"/content/drive/MyDrive\", '*.jpeg')))\n",
        "for im_name in im_names:\n",
        "    file_name = os.path.basename(im_name).split('.')[0]\n",
        "    file_name = file_name.split()[0]\n",
        "    imag = cv2.imread(im_name,1)\n",
        "    count +=1\n",
        "    print(count)\n",
        "    resize_imag = cv2.resize(imag, (150, 150))\n",
        "    cv2.imwrite(\"/content/drive/MyDrive/re%s .jpeg\"%file_name,resize_imag)"
      ],
      "execution_count": null,
      "outputs": [
        {
          "output_type": "stream",
          "text": [
           
          ],
          "name": "stdout"
        }
      ]
    },
    {
      "cell_type": "code",
      "metadata": {
        "id": "XbGd5jipwZLp"
      },
      "source": [
        ""
      ],
      "execution_count": null,
      "outputs": []
    }
  ]
}
